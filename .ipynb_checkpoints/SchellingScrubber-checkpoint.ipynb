{
 "metadata": {
  "name": "",
  "signature": "sha256:56e9ff5f6194fffc805e4a2dbe312465bcd07b3349fabedebac4b388b62ba1e3"
 },
 "nbformat": 3,
 "nbformat_minor": 0,
 "worksheets": [
  {
   "cells": [
    {
     "cell_type": "markdown",
     "metadata": {},
     "source": [
      "# Agent-Based Models with IPython Interactive Widgets\n",
      "\n",
      "IPython 2.0 includes new interactive widgets in the Notebook. One cool way to use them is to be able to scrub through a run of an agent-based model. Here's an example, using the Schelling Segregation Model code that I developed for [a previous blog post](http://davidmasad.com/blog/css-data-complexity/), available [on GitHub](https://github.com/dmasad/Schelling_ML)."
     ]
    },
    {
     "cell_type": "code",
     "collapsed": false,
     "input": [
      "import matplotlib.pyplot as plt\n",
      "import matplotlib.colors\n",
      "from Schelling import *\n",
      "\n",
      "# Import the new interaction widget\n",
      "from IPython.html.widgets import interact"
     ],
     "language": "python",
     "metadata": {},
     "outputs": [],
     "prompt_number": 2
    },
    {
     "cell_type": "code",
     "collapsed": false,
     "input": [
      "%matplotlib inline"
     ],
     "language": "python",
     "metadata": {},
     "outputs": [],
     "prompt_number": 3
    },
    {
     "cell_type": "code",
     "collapsed": false,
     "input": [
      "colors = matplotlib.colors.ListedColormap(['white', 'blue', 'red'])"
     ],
     "language": "python",
     "metadata": {},
     "outputs": [],
     "prompt_number": 4
    },
    {
     "cell_type": "code",
     "collapsed": false,
     "input": [
      "model = Model() # Create the new model object"
     ],
     "language": "python",
     "metadata": {},
     "outputs": [],
     "prompt_number": 5
    },
    {
     "cell_type": "markdown",
     "metadata": {},
     "source": [
      "Run the model for 600 steps, or until all agents are 'happy'. At each step, export a NumPy matrix which encodes the type of agent (if any) at each location, and put it in a list. Each position in a list corresponds to a model step."
     ]
    },
    {
     "cell_type": "code",
     "collapsed": false,
     "input": [
      "steps = []\n",
      "for i in range(600):\n",
      "    steps.append(model.export_grid())\n",
      "    if model.step():\n",
      "        break\n",
      "print i"
     ],
     "language": "python",
     "metadata": {},
     "outputs": [
      {
       "output_type": "stream",
       "stream": "stdout",
       "text": [
        "48\n"
       ]
      }
     ],
     "prompt_number": 6
    },
    {
     "cell_type": "markdown",
     "metadata": {},
     "source": [
      "Now create a drawing function. Given a step number, it will get the corresponding grid and draw it using the colormap specified above. It will also draw the plot of agents moving per step, with a line marking the selected step."
     ]
    },
    {
     "cell_type": "code",
     "collapsed": false,
     "input": [
      "def draw_state(i):\n",
      "    fig = plt.figure(figsize=(12, 6))\n",
      "    ax1 = fig.add_subplot(121)\n",
      "    ax1.imshow(steps[i], cmap=colors, interpolation='nearest')\n",
      "    \n",
      "    ax2 = fig.add_subplot(122)\n",
      "    ax2.plot(model.move_count)\n",
      "    ax2.vlines(i, 0, 20, linestyles='dashed')"
     ],
     "language": "python",
     "metadata": {},
     "outputs": [],
     "prompt_number": 10
    },
    {
     "cell_type": "markdown",
     "metadata": {},
     "source": [
      "Finally, create the interaction widget using the *interact* function. The first argument is the function to be called each interaction, in this case *draw_state*. Next come the interactive argument, in this case just *i*, the model step. Note that this argument needs to have the same name as the function's argument. The tuple defines a start and end-point for the slider; by default, as far as I can tell, *interact* assumes that the argument takes integer values, and restricts the slider accordingly. \n",
      "\n",
      "If you're seeing this via NBViewer, the slider will probably be missing, and the imagine will be static. But run the notebook locally with IPython 2.0, and the slider will allow you to scrub through the steps of the model and see the agents move around and segregate themselves."
     ]
    },
    {
     "cell_type": "code",
     "collapsed": false,
     "input": [
      "interact(draw_state,\n",
      "         i=(0,len(steps)-1))"
     ],
     "language": "python",
     "metadata": {},
     "outputs": [
      {
       "metadata": {},
       "output_type": "display_data",
       "png": "[encoded data removed]",
       "text": [
        "<matplotlib.figure.Figure at 0x1088d8510>"
       ]
      }
     ],
     "prompt_number": 14
    }
   ],
   "metadata": {}
  }
 ]
}