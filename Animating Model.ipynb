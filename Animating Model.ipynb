{
 "metadata": {
  "name": "",
  "signature": "sha256:722d878e67c4d7fda4fe5a457902d63deeea6ab1e61260d4a1e4b47ea1b96dc8"
 },
 "nbformat": 3,
 "nbformat_minor": 0,
 "worksheets": [
  {
   "cells": [
    {
     "cell_type": "markdown",
     "metadata": {},
     "source": [
      "# Agent-Based Models with IPython Interactive Widgets\n",
      "\n",
      "IPython 2.0 includes new interactive widgets in the Notebook."
     ]
    },
    {
     "cell_type": "code",
     "collapsed": false,
     "input": [
      "import matplotlib.pyplot as plt\n",
      "import matplotlib.colors\n",
      "from Schelling import *\n",
      "\n",
      "from IPython.html.widgets import interact"
     ],
     "language": "python",
     "metadata": {},
     "outputs": [],
     "prompt_number": 1
    },
    {
     "cell_type": "code",
     "collapsed": false,
     "input": [
      "%matplotlib inline"
     ],
     "language": "python",
     "metadata": {},
     "outputs": [],
     "prompt_number": 2
    },
    {
     "cell_type": "code",
     "collapsed": false,
     "input": [
      "colors = matplotlib.colors.ListedColormap(['white', 'blue', 'red'])"
     ],
     "language": "python",
     "metadata": {},
     "outputs": [],
     "prompt_number": 3
    },
    {
     "cell_type": "code",
     "collapsed": false,
     "input": [
      "model = Model()"
     ],
     "language": "python",
     "metadata": {},
     "outputs": [],
     "prompt_number": 16
    },
    {
     "cell_type": "code",
     "collapsed": false,
     "input": [
      "steps = []\n",
      "for i in range(600):\n",
      "    steps.append(model.export_grid())\n",
      "    if model.step():\n",
      "        break\n",
      "print i"
     ],
     "language": "python",
     "metadata": {},
     "outputs": [
      {
       "output_type": "stream",
       "stream": "stdout",
       "text": [
        "599\n"
       ]
      }
     ],
     "prompt_number": 17
    },
    {
     "cell_type": "code",
     "collapsed": false,
     "input": [
      "def draw_state(i):\n",
      "    fig = plt.figure(figsize=(12, 6))\n",
      "    ax1 = fig.add_subplot(121)\n",
      "    ax1.imshow(steps[i], cmap=colors, interpolation='nearest')\n",
      "    \n",
      "    ax2 = fig.add_subplot(122)\n",
      "    ax2.plot(model.move_count)\n",
      "    ax2.vlines(i, 0, 20)"
     ],
     "language": "python",
     "metadata": {},
     "outputs": [],
     "prompt_number": 28
    },
    {
     "cell_type": "code",
     "collapsed": false,
     "input": [
      "interact(draw_state,\n",
      "         i=(0,len(steps)-1))"
     ],
     "language": "python",
     "metadata": {},
     "outputs": [
      {
       "metadata": {},
       "output_type": "display_data",
       "png": "[encoded data removed]",
       "text": [
        "<matplotlib.figure.Figure at 0x10ab56f50>"
       ]
      }
     ],
     "prompt_number": 29
    },
    {
     "cell_type": "code",
     "collapsed": false,
     "input": [],
     "language": "python",
     "metadata": {},
     "outputs": []
    }
   ],
   "metadata": {}
  }
 ]
}